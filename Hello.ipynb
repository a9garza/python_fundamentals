print("Mi nombre es Arturo Garza")
