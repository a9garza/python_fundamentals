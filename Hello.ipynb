nombre = "Arturo Garza"
frase = "You don't rise to the level of your goals, you fail to the level of your systems"
print(name+" "+frase)
