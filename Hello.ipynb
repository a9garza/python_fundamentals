{
 "cells": [
  {
   "cell_type": "code",
   "execution_count": 1,
   "id": "37b3aefd",
   "metadata": {},
   "outputs": [
    {
     "name": "stdout",
     "output_type": "stream",
     "text": [
      "Mi nombre es Arturo Garza\n"
     ]
    }
   ],
   "source": [
    "print(\"Mi nombre es Arturo Garza\")"
   ]
  },
  {
   "cell_type": "code",
   "execution_count": 2,
   "id": "495d7a03",
   "metadata": {},
   "outputs": [
    {
     "name": "stdout",
     "output_type": "stream",
     "text": [
      "You don't rise to the level of your goals, you fail to the level of your systems\n"
     ]
    }
   ],
   "source": [
    "print(\"You don't rise to the level of your goals, you fail to the level of your systems\")"
   ]
  }
 ],
 "metadata": {
  "kernelspec": {
   "display_name": "Python 3 (ipykernel)",
   "language": "python",
   "name": "python3"
  },
  "language_info": {
   "codemirror_mode": {
    "name": "ipython",
    "version": 3
   },
   "file_extension": ".py",
   "mimetype": "text/x-python",
   "name": "python",
   "nbconvert_exporter": "python",
   "pygments_lexer": "ipython3",
   "version": "3.9.13"
  }
 },
 "nbformat": 4,
 "nbformat_minor": 5
}
