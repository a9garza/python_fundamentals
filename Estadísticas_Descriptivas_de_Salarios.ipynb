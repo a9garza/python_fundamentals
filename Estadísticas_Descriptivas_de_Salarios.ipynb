{
  "nbformat": 4,
  "nbformat_minor": 0,
  "metadata": {
    "colab": {
      "provenance": [],
      "authorship_tag": "ABX9TyPulnJ8fREPBdYu8PQuhBII",
      "include_colab_link": true
    },
    "kernelspec": {
      "name": "python3",
      "display_name": "Python 3"
    },
    "language_info": {
      "name": "python"
    }
  },
  "cells": [
    {
      "cell_type": "markdown",
      "metadata": {
        "id": "view-in-github",
        "colab_type": "text"
      },
      "source": [
        "<a href=\"https://colab.research.google.com/github/a9garza/python_fundamentals/blob/main/Estad%C3%ADsticas_Descriptivas_de_Salarios.ipynb\" target=\"_parent\"><img src=\"https://colab.research.google.com/assets/colab-badge.svg\" alt=\"Open In Colab\"/></a>"
      ]
    },
    {
      "cell_type": "code",
      "execution_count": 1,
      "metadata": {
        "colab": {
          "base_uri": "https://localhost:8080/"
        },
        "id": "WSJOndOhey1Z",
        "outputId": "b7a2b683-048a-405e-cf75-928ca79520a6"
      },
      "outputs": [
        {
          "output_type": "stream",
          "name": "stdout",
          "text": [
            "   Nombre  Edad  Salario Genero\n",
            "0   Ringo    45    12000      M\n",
            "1    John    34    14000      M\n",
            "2    Paul    42    13000      M\n",
            "3  George    38    11000      M\n",
            "4    Yoko    47    10000      F\n",
            "El rango es 4000\n"
          ]
        }
      ],
      "source": [
        "# PARTE 1\n",
        "\n",
        "import pandas as pd\n",
        "\n",
        "salarios={\n",
        "    \"Nombre\":[\"Ringo\",\"John\",\"Paul\",\"George\",\"Yoko\"],\n",
        "    \"Edad\":[45,34,42,38,47],\n",
        "    \"Salario\":[12000,14000,13000,11000,10000],\n",
        "    \"Genero\":[\"M\",\"M\",\"M\",\"M\",\"F\"]\n",
        "}\n",
        "\n",
        "df = pd.DataFrame(salarios)\n",
        "print(df.head())\n",
        "col_salario = df[\"Salario\"]\n",
        "\n",
        "rango = col_salario.max() - col_salario.min()\n",
        "\n",
        "print(f\"El rango es {rango}\")"
      ]
    },
    {
      "cell_type": "code",
      "source": [
        "# PARTE 2\n",
        "# 1.- Obtener los estadísticos descriptivos de los salarios. (media, mediana, desviación estándar, etc.)\n",
        "\n",
        "# 2.- Imprime los resultados de una manera sencilla de leer para el usuario.\n",
        "print(col_salario.describe())"
      ],
      "metadata": {
        "colab": {
          "base_uri": "https://localhost:8080/"
        },
        "id": "yskoQKIFe65Y",
        "outputId": "8be1d4e5-eccb-49fb-e0be-20642c3a405f"
      },
      "execution_count": 2,
      "outputs": [
        {
          "output_type": "stream",
          "name": "stdout",
          "text": [
            "count        5.00000\n",
            "mean     12000.00000\n",
            "std       1581.13883\n",
            "min      10000.00000\n",
            "25%      11000.00000\n",
            "50%      12000.00000\n",
            "75%      13000.00000\n",
            "max      14000.00000\n",
            "Name: Salario, dtype: float64\n"
          ]
        }
      ]
    },
    {
      "cell_type": "code",
      "source": [],
      "metadata": {
        "id": "ELMHp1rDfFz1"
      },
      "execution_count": null,
      "outputs": []
    }
  ]
}