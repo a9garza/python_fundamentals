{
  "nbformat": 4,
  "nbformat_minor": 0,
  "metadata": {
    "colab": {
      "provenance": [],
      "authorship_tag": "ABX9TyP6npjxUU1vg90fx+HvKyny",
      "include_colab_link": true
    },
    "kernelspec": {
      "name": "python3",
      "display_name": "Python 3"
    },
    "language_info": {
      "name": "python"
    }
  },
  "cells": [
    {
      "cell_type": "markdown",
      "metadata": {
        "id": "view-in-github",
        "colab_type": "text"
      },
      "source": [
        "<a href=\"https://colab.research.google.com/github/a9garza/python_fundamentals/blob/main/Actividad_Funciones.ipynb\" target=\"_parent\"><img src=\"https://colab.research.google.com/assets/colab-badge.svg\" alt=\"Open In Colab\"/></a>"
      ]
    },
    {
      "cell_type": "code",
      "execution_count": 47,
      "metadata": {
        "colab": {
          "base_uri": "https://localhost:8080/"
        },
        "id": "RexAOqpIxepL",
        "outputId": "c3873c06-8268-4910-9517-b02378081ab5"
      },
      "outputs": [
        {
          "output_type": "stream",
          "name": "stdout",
          "text": [
            "El valor de x1 es de -0.5358983848622456\n",
            "El valor de x2 es de -7.464101615137754\n"
          ]
        }
      ],
      "source": [
        "#Crea una función llamada \"cuadratica\" utilizando el comando \"def\" en la cual recibas como argumentos los parámetros reales de una función cuadrática: a, b y c.\n",
        "#Se crea la función con entradas a,b,c\n",
        "def cuadratica(a,b,c):\n",
        "\n",
        "  #Se realiza la comparativa para validar si tendrá o no valor imaginario\n",
        "  if (b**2 - 4*a*c)<0:\n",
        "\n",
        "    #En caso de que el resultado sea negativo, imprime el texto y termina la función\n",
        "    return print(\"La respuesta cuenta con un valor imaginario ya que la operación (b^2 - 4*a*c) resulta en un número negativo\\n\")\n",
        "\n",
        "  #Si el IF dió negativo, continuar con el resto de la función\n",
        "  x1 = (-b + (b**2 - 4*a*c)**0.5) / (2*a)\n",
        "  x2 = (-b - (b**2 - 4*a*c)**0.5) / (2*a)\n",
        "  return print(f'El valor de x1 es de {x1}\\nEl valor de x2 es de {x2}')\n",
        "\n",
        "#Correr la función\n",
        "cuadratica(1,8,4)"
      ]
    }
  ]
}