{
  "nbformat": 4,
  "nbformat_minor": 0,
  "metadata": {
    "colab": {
      "provenance": [],
      "authorship_tag": "ABX9TyMOxQRpY/W7pMA/dEsXD17I",
      "include_colab_link": true
    },
    "kernelspec": {
      "name": "python3",
      "display_name": "Python 3"
    },
    "language_info": {
      "name": "python"
    }
  },
  "cells": [
    {
      "cell_type": "markdown",
      "metadata": {
        "id": "view-in-github",
        "colab_type": "text"
      },
      "source": [
        "<a href=\"https://colab.research.google.com/github/a9garza/python_fundamentals/blob/main/Actividad%20Numpy.ipynb\" target=\"_parent\"><img src=\"https://colab.research.google.com/assets/colab-badge.svg\" alt=\"Open In Colab\"/></a>"
      ]
    },
    {
      "cell_type": "code",
      "execution_count": 31,
      "metadata": {
        "id": "2lFZaDxhOe4-"
      },
      "outputs": [],
      "source": [
        "#Importar paquete NumPy\n",
        "import numpy as np"
      ]
    },
    {
      "cell_type": "code",
      "source": [
        "#Crea una matriz bidimensional (array) llamada matriz_3x3 con una dimensión de 3 filas y 3 columnas.\n",
        "#Los valores de la matriz deben ir de 0 a 8. Puedes utilizar la función arange de NumPy para generar los valores de forma consecutiva.\n",
        "\n",
        "#Generar una matriz de 1 dimensión con la serie de números de 0 a 8 utilizando arange\n",
        "#Se utiliza del 0 al 9 ya que el conteo en python empieza desde 0\n",
        "matriz_3x3 = np.arange(0,9)\n",
        "\n",
        "#Utilizar función np.resize para darle la forma de 3x3 a la serie unidimensional anterior, creando una matriz de 2 dimensiones de 3 filas y 3 columnas\n",
        "#Se iguala de nuevo al nombre de la variable para sobrescribir el arreglo original\n",
        "matriz_3x3 = matriz_3x3 = np.resize(matriz_3x3,(3,3))\n",
        "\n",
        "#Imprimir la matriz\n",
        "print(matriz_3x3)"
      ],
      "metadata": {
        "colab": {
          "base_uri": "https://localhost:8080/"
        },
        "id": "uspm_WLVlcQy",
        "outputId": "9144fb51-32e3-4f95-af63-760c00c1aec7"
      },
      "execution_count": 43,
      "outputs": [
        {
          "output_type": "stream",
          "name": "stdout",
          "text": [
            "[[0 1 2]\n",
            " [3 4 5]\n",
            " [6 7 8]]\n"
          ]
        }
      ]
    },
    {
      "cell_type": "code",
      "source": [],
      "metadata": {
        "id": "XrDK2m3Tl6Rg"
      },
      "execution_count": 35,
      "outputs": []
    }
  ]
}