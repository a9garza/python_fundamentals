{
  "cells": [
    {
      "cell_type": "code",
      "source": [
        "# Ecuación 1: \"El doble de mi edad tiene 24 años, ¿cuántos años tengo?\"\r\n",
        "x = int(24/2)\r\n",
        "print(f\"Si el doble de mi edad tiene 24 años yo tengo {x} años\")"
      ],
      "outputs": [
        {
          "output_type": "display_data",
          "data": {
            "application/vnd.livy.statement-meta+json": {
              "spark_pool": "SPK01",
              "session_id": "2",
              "statement_id": 13,
              "state": "finished",
              "livy_statement_state": "available",
              "queued_time": "2023-07-14T03:54:07.2936648Z",
              "session_start_time": null,
              "execution_start_time": "2023-07-14T03:54:07.4611351Z",
              "execution_finish_time": "2023-07-14T03:54:07.6421981Z",
              "spark_jobs": null,
              "parent_msg_id": "1c524b87-fbad-4ef2-9824-2eb898bb852a"
            },
            "text/plain": "StatementMeta(SPK01, 2, 13, Finished, Available)"
          },
          "metadata": {}
        },
        {
          "output_type": "stream",
          "name": "stdout",
          "text": [
            "Si el doble de mi edad tiene 24 años yo tengo 12 años\n"
          ]
        }
      ],
      "execution_count": 12,
      "metadata": {}
    },
    {
      "cell_type": "code",
      "source": [
        "# Ecuación 2: \"A un tercio de la edad de mi hermana le disminuyo 15 años para tener la misma edad que yo. Yo tengo 6 años. ¿Qué edad tiene ella?\"\r\n",
        "mi_edad = 6\r\n",
        "edad_hermana = (mi_edad+15)*3\r\n",
        "print(f\"Mi hermana tiene {edad_hermana} años\")"
      ],
      "outputs": [
        {
          "output_type": "display_data",
          "data": {
            "application/vnd.livy.statement-meta+json": {
              "spark_pool": "SPK01",
              "session_id": "2",
              "statement_id": 15,
              "state": "finished",
              "livy_statement_state": "available",
              "queued_time": "2023-07-14T03:55:39.236759Z",
              "session_start_time": null,
              "execution_start_time": "2023-07-14T03:55:39.4029794Z",
              "execution_finish_time": "2023-07-14T03:55:39.6050593Z",
              "spark_jobs": null,
              "parent_msg_id": "23d65dd3-bf64-4671-9d50-81c279ee0c0d"
            },
            "text/plain": "StatementMeta(SPK01, 2, 15, Finished, Available)"
          },
          "metadata": {}
        },
        {
          "output_type": "stream",
          "name": "stdout",
          "text": [
            "Mi hermana tiene 63 años\n"
          ]
        }
      ],
      "execution_count": 14,
      "metadata": {
        "jupyter": {
          "source_hidden": false,
          "outputs_hidden": false
        },
        "nteract": {
          "transient": {
            "deleting": false
          }
        }
      }
    },
    {
      "cell_type": "code",
      "source": [
        "# Utilizando estructuras condicionales (if, else), compara las edades representadas por las variables x y y para determinar quién es mayor.\r\n",
        "# Variables prueba donde x=mi edad, y=edad de mi hermana\r\n",
        "x=3\r\n",
        "y=3\r\n",
        "if x>y:\r\n",
        "    print(\"Yo soy mayor que mi hermana\")\r\n",
        "elif x<y:\r\n",
        "    print(\"Mi hermana es mayor que yo\")\r\n",
        "else:\r\n",
        "    print(\"Mi hermana y yo tenemos la misma edad\")"
      ],
      "outputs": [
        {
          "output_type": "display_data",
          "data": {
            "application/vnd.livy.statement-meta+json": {
              "spark_pool": "SPK01",
              "session_id": "2",
              "statement_id": 18,
              "state": "finished",
              "livy_statement_state": "available",
              "queued_time": "2023-07-14T03:59:32.3839391Z",
              "session_start_time": null,
              "execution_start_time": "2023-07-14T03:59:33.1114531Z",
              "execution_finish_time": "2023-07-14T03:59:33.3153412Z",
              "spark_jobs": null,
              "parent_msg_id": "4df0ecfe-faf4-4d7c-bfa0-c32655348d43"
            },
            "text/plain": "StatementMeta(SPK01, 2, 18, Finished, Available)"
          },
          "metadata": {}
        },
        {
          "output_type": "stream",
          "name": "stdout",
          "text": [
            "Mi hermana y yo tenemos la misma edad\n"
          ]
        }
      ],
      "execution_count": 17,
      "metadata": {
        "jupyter": {
          "source_hidden": false,
          "outputs_hidden": false
        },
        "nteract": {
          "transient": {
            "deleting": false
          }
        }
      }
    },
    {
      "cell_type": "code",
      "source": [],
      "outputs": [],
      "execution_count": null,
      "metadata": {
        "jupyter": {
          "source_hidden": false,
          "outputs_hidden": false
        },
        "nteract": {
          "transient": {
            "deleting": false
          }
        }
      }
    }
  ],
  "metadata": {
    "language_info": {
      "name": "python"
    },
    "kernelspec": {
      "name": "synapse_pyspark",
      "language": "Python",
      "display_name": "Synapse PySpark"
    },
    "kernel_info": {
      "name": "synapse_pyspark"
    },
    "description": "Actividad: Ecuaciones utilizando Python",
    "save_output": true,
    "synapse_widget": {
      "version": "0.1",
      "state": {}
    }
  },
  "nbformat": 4,
  "nbformat_minor": 2
}