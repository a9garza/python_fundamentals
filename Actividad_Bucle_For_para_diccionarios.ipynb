{
  "nbformat": 4,
  "nbformat_minor": 0,
  "metadata": {
    "colab": {
      "provenance": [],
      "authorship_tag": "ABX9TyPoampeIkytQPr7ZdCWhVCa",
      "include_colab_link": true
    },
    "kernelspec": {
      "name": "python3",
      "display_name": "Python 3"
    },
    "language_info": {
      "name": "python"
    }
  },
  "cells": [
    {
      "cell_type": "markdown",
      "metadata": {
        "id": "view-in-github",
        "colab_type": "text"
      },
      "source": [
        "<a href=\"https://colab.research.google.com/github/a9garza/python_fundamentals/blob/main/Actividad_Bucle_For_para_diccionarios.ipynb\" target=\"_parent\"><img src=\"https://colab.research.google.com/assets/colab-badge.svg\" alt=\"Open In Colab\"/></a>"
      ]
    },
    {
      "cell_type": "code",
      "execution_count": 22,
      "metadata": {
        "colab": {
          "base_uri": "https://localhost:8080/"
        },
        "id": "QswiT7c2wzQX",
        "outputId": "9ab6731e-04e3-42d2-c727-7bf93dc83796"
      },
      "outputs": [
        {
          "output_type": "stream",
          "name": "stdout",
          "text": [
            "Lucia 15\n",
            "Arturo 11\n",
            "Andrea 22\n",
            "Miguel 18\n",
            "Sebastián 12\n"
          ]
        }
      ],
      "source": [
        "# Parte 1\n",
        "\n",
        "# Crea un diccionario en donde definas al menos 5 personas con un número cada uno.\n",
        "personas = {\"Lucia\":15,\"Arturo\":11,\"Andrea\":22,\"Miguel\":18,\"Sebastián\":12}\n",
        "\n",
        "# Luego utilizando un bucle for imprime los valores del diccionario (nombre de la persona y número que dijo)\n",
        "for k, v in personas.items():\n",
        "    print(k, v)"
      ]
    },
    {
      "cell_type": "code",
      "source": [
        "# Parte 2\n",
        "# Imprime dos mensajes, mostrando el número más grande, y el número más pequeño del diccionario. (Sin el nombre del socio, sólo el número)\n",
        "\n",
        "print(f'El número más grande es: {max(personas.values())}, mientras el número más pequeño es {min(personas.values())}')"
      ],
      "metadata": {
        "colab": {
          "base_uri": "https://localhost:8080/"
        },
        "id": "QSBbksZjxSj_",
        "outputId": "1a248e7e-d592-4ef8-de4f-3f7933881651"
      },
      "execution_count": 32,
      "outputs": [
        {
          "output_type": "stream",
          "name": "stdout",
          "text": [
            "El número más grande es: 22, mientras el número más pequeño es 11\n"
          ]
        }
      ]
    }
  ]
}