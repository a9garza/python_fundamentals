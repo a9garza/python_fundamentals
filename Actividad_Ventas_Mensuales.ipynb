{
  "nbformat": 4,
  "nbformat_minor": 0,
  "metadata": {
    "colab": {
      "provenance": [],
      "authorship_tag": "ABX9TyN5n5CAwHCiEWRBnti+/HMQ",
      "include_colab_link": true
    },
    "kernelspec": {
      "name": "python3",
      "display_name": "Python 3"
    },
    "language_info": {
      "name": "python"
    }
  },
  "cells": [
    {
      "cell_type": "markdown",
      "metadata": {
        "id": "view-in-github",
        "colab_type": "text"
      },
      "source": [
        "<a href=\"https://colab.research.google.com/github/a9garza/python_fundamentals/blob/main/Actividad_Ventas_Mensuales.ipynb\" target=\"_parent\"><img src=\"https://colab.research.google.com/assets/colab-badge.svg\" alt=\"Open In Colab\"/></a>"
      ]
    },
    {
      "cell_type": "code",
      "execution_count": 4,
      "metadata": {
        "id": "6elYuwDkoEQ-"
      },
      "outputs": [],
      "source": [
        "#Importar paquete NumPy\n",
        "import numpy as np"
      ]
    },
    {
      "cell_type": "code",
      "source": [
        "#Parte 1\n",
        "#Crea una matriz bidimensional (array) llamada ventas_mensuales con una dimensión de 12 filas (representando los meses del año) y 4 columnas (representando los productos vendidos).\n",
        "#Los valores de la matriz representarán las ventas mensuales de cada producto. Puedes ingresar los valores manualmente.\n",
        "\n",
        "#Se genera una matriz de 12 filas y 4 columnas, con valores enteros randomizados desde 2 a 5\n",
        "ventas_mensuales=np.random.random_integers(2, 5, (12, 4))\n",
        "\n",
        "#Imprimir Matriz\n",
        "print(ventas_mensuales)"
      ],
      "metadata": {
        "colab": {
          "base_uri": "https://localhost:8080/"
        },
        "id": "MHoGwj1ToJxI",
        "outputId": "2e2a4b77-5b65-4069-ce05-be70fe214c97"
      },
      "execution_count": 19,
      "outputs": [
        {
          "output_type": "stream",
          "name": "stdout",
          "text": [
            "[[2 5 3 5]\n",
            " [3 5 5 3]\n",
            " [4 3 4 4]\n",
            " [3 4 2 3]\n",
            " [2 2 2 2]\n",
            " [3 4 3 2]\n",
            " [2 5 2 3]\n",
            " [2 2 3 5]\n",
            " [2 3 3 3]\n",
            " [4 5 3 4]\n",
            " [4 5 5 3]\n",
            " [3 4 3 5]]\n"
          ]
        },
        {
          "output_type": "stream",
          "name": "stderr",
          "text": [
            "<ipython-input-19-9c7078f6d8c7>:6: DeprecationWarning: This function is deprecated. Please call randint(2, 5 + 1) instead\n",
            "  ventas_mensuales=np.random.random_integers(2, 5, (12, 4))\n"
          ]
        }
      ]
    },
    {
      "cell_type": "code",
      "source": [
        "#Parte 2\n",
        "#Calcula el total_de_ventas_producto sumando los valores de cada columna utilizando la función sum() de NumPy.\n",
        "\n",
        "#Esta función suma todos los valores dentro de la matriz de ventas_mensuales\n",
        "total_de_ventas_producto = np.sum(ventas_mensuales)\n",
        "total_de_ventas_producto"
      ],
      "metadata": {
        "colab": {
          "base_uri": "https://localhost:8080/"
        },
        "id": "B1TTSMrqoN5H",
        "outputId": "9c224c56-4b0b-47be-df01-f9ac4699693b"
      },
      "execution_count": 28,
      "outputs": [
        {
          "output_type": "execute_result",
          "data": {
            "text/plain": [
              "161"
            ]
          },
          "metadata": {},
          "execution_count": 28
        }
      ]
    },
    {
      "cell_type": "code",
      "source": [
        "#Esta función suma los valores de cada columna en la matriz de ventas_mensuales y genera un arreglo con los resultados\n",
        "total_de_ventas_producto_columnas = np.sum(ventas_mensuales,axis=0)\n",
        "print(total_de_ventas_producto_columnas)"
      ],
      "metadata": {
        "colab": {
          "base_uri": "https://localhost:8080/"
        },
        "id": "Upk8bVlSrLiE",
        "outputId": "cc68a5cb-55bc-4e43-96f3-01243766f13c"
      },
      "execution_count": 31,
      "outputs": [
        {
          "output_type": "stream",
          "name": "stdout",
          "text": [
            "[34 47 38 42]\n"
          ]
        }
      ]
    },
    {
      "cell_type": "code",
      "source": [
        "#Esta función suma los valores de cada fila en la matriz de ventas_mensuales y genera un arreglo con los resultados\n",
        "total_de_ventas_producto_filas = np.sum(ventas_mensuales,axis=1)\n",
        "print(total_de_ventas_producto_filas)"
      ],
      "metadata": {
        "colab": {
          "base_uri": "https://localhost:8080/"
        },
        "id": "QG0-ci-xrTiE",
        "outputId": "9ba6a33e-4144-4b16-ea92-d0a734894833"
      },
      "execution_count": 33,
      "outputs": [
        {
          "output_type": "stream",
          "name": "stdout",
          "text": [
            "[15 16 15 12  8 12 12 12 11 16 17 15]\n"
          ]
        }
      ]
    },
    {
      "cell_type": "code",
      "source": [],
      "metadata": {
        "id": "-2lJN3fHrsGs"
      },
      "execution_count": null,
      "outputs": []
    }
  ]
}