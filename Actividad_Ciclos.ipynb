{
  "nbformat": 4,
  "nbformat_minor": 0,
  "metadata": {
    "colab": {
      "provenance": [],
      "authorship_tag": "ABX9TyOtlmiuSyQ/rfpBbpfQHLtB",
      "include_colab_link": true
    },
    "kernelspec": {
      "name": "python3",
      "display_name": "Python 3"
    },
    "language_info": {
      "name": "python"
    }
  },
  "cells": [
    {
      "cell_type": "markdown",
      "metadata": {
        "id": "view-in-github",
        "colab_type": "text"
      },
      "source": [
        "<a href=\"https://colab.research.google.com/github/a9garza/python_fundamentals/blob/main/Actividad_Ciclos.ipynb\" target=\"_parent\"><img src=\"https://colab.research.google.com/assets/colab-badge.svg\" alt=\"Open In Colab\"/></a>"
      ]
    },
    {
      "cell_type": "code",
      "execution_count": 20,
      "metadata": {
        "colab": {
          "base_uri": "https://localhost:8080/"
        },
        "id": "mF8rKg157IAS",
        "outputId": "03d779b1-be2d-4dbf-8afd-dba36c755c4a"
      },
      "outputs": [
        {
          "output_type": "stream",
          "name": "stdout",
          "text": [
            "Ingrese el monto de su compra. Para salir ingrese '0': \n",
            "-1000\n",
            "El valor no puede ser negativo, favor de ingresar el monto de su compra correctamente. Para salir ingrese '0': \n",
            "1000\n",
            "Ingrese el siguiente monto de su compra. Para salir ingrese '0': \n",
            "-1000\n",
            "El valor no puede ser negativo, favor de ingresar el monto de su compra correctamente. Para salir ingrese '0': \n",
            "1000\n",
            "Ingrese el siguiente monto de su compra. Para salir ingrese '0': \n",
            "-1000\n",
            "El valor no puede ser negativo, favor de ingresar el monto de su compra correctamente. Para salir ingrese '0': \n",
            "1000\n",
            "Ingrese el siguiente monto de su compra. Para salir ingrese '0': \n",
            "0\n",
            "El total de su compra de 3 artículo(s) es de $3000 pesos. Dado que superó los $1000 pesos de consumo, se le realizará un 10% de descuento\n",
            "El nuevo monto total a pagar es de $2700 pesos\n"
          ]
        }
      ],
      "source": [
        "#Parte 1\n",
        "#Crear un script en python que permita al usuario ingresar los montos de las compras de un cliente, terminando el ingreso de datos cuando el usuario ingresa el valor 0.\n",
        "#(No se sabe cuántos valores ingresará el usuario)\n",
        "\n",
        "#Declaración de variables\n",
        "monto_total = 0\n",
        "conteo = 0\n",
        "\n",
        "#Solicitar al cliente registrar su compra\n",
        "print(\"Ingrese el monto de su compra. Para salir ingrese '0': \")\n",
        "monto = int(input())\n",
        "while monto !=0:\n",
        "\n",
        "  #Ingresar condicional donde el valor ingresado no puede ser negativo y solicitar ingresar el monto correcto\n",
        "  while monto<0:\n",
        "    print(\"El valor no puede ser negativo, favor de ingresar el monto de su compra correctamente. Para salir ingrese '0': \")\n",
        "    monto = int(input())\n",
        "  monto_total = monto_total+monto\n",
        "  conteo = conteo+1\n",
        "  print(\"Ingrese el siguiente monto de su compra. Para salir ingrese '0': \")\n",
        "  monto = int(input())\n",
        "\n",
        "if monto_total>1000:\n",
        "  print(f'El total de su compra de {conteo} artículo(s) es de ${monto_total} pesos. Dado que superó los $1000 pesos de consumo, se le realizará un 10% de descuento\\n\\\n",
        "El nuevo monto total a pagar es de ${int(monto_total*0.9)} pesos')\n",
        "else:\n",
        "  print(f'El total de su compra de {conteo} artículo(s) es de ${monto_total} pesos')"
      ]
    },
    {
      "cell_type": "code",
      "source": [
        "#Parte 2\n",
        "#Crear un script en python que permita al usuario ingresar el tiempo dentro en un estacionamiento, terminando el ingreso de datos cuando el usuario ingresa el valor 0.\n",
        "#Se importa paquete para operaciones matemáticas\n",
        "import math\n",
        "print(math.ceil(4.2))\n",
        "#Declaración de variables\n",
        "tiempo_total = 0\n",
        "monto_total\n",
        "\n",
        "#Solicitar al cliente registrar su compra\n",
        "print(\"Ingrese el tiempo (minutos) a reservar dentro del estacionamiento. Para salir ingrese '0': \")\n",
        "tiempo = int(input())\n",
        "while tiempo !=0:\n",
        "\n",
        "  #Ingresar condicional donde el valor ingresado no puede ser negativo y solicitar ingresar el monto correcto\n",
        "  while tiempo<0:\n",
        "    print(\"El valor no puede ser negativo, favor de ingresar un valor correcto. Para salir ingrese '0': \")\n",
        "    tiempo = int(input())\n",
        "  tiempo_total = tiempo_total+tiempo\n",
        "  print(\"Ingrese el tiempo (minutos) a reservar dentro del estacionamiento. Para salir ingrese '0': \")\n",
        "  tiempo = int(input())\n",
        "\n",
        "if tiempo_total<=60:\n",
        "  monto_total=25\n",
        "else:\n",
        "  monto_total = 25+(math.ceil((tiempo_total-60)/60))*15\n",
        "if tiempo_total/60<=8:\n",
        "  print(f'El total de su estancia fue de: {tiempo_total} minutos, por lo que su total a pagar es de ${monto_total} pesos.')\n",
        "else:\n",
        "  monto_total=monto_total+200\n",
        "  print(f'El total de su estancia fue de: {tiempo_total} minutos, por lo que su total a pagar es de ${monto_total} pesos.\\n\\\n",
        "El monto incluye un recargo de $200 pesos por permanecer más de 8 horas.')"
      ],
      "metadata": {
        "colab": {
          "base_uri": "https://localhost:8080/"
        },
        "id": "XEKDJolS-ZPh",
        "outputId": "4aef9465-e683-4200-ca3c-5a2e56413d9a"
      },
      "execution_count": 33,
      "outputs": [
        {
          "output_type": "stream",
          "name": "stdout",
          "text": [
            "5\n",
            "Ingrese el tiempo (minutos) a reservar dentro del estacionamiento. Para salir ingrese '0': \n",
            "120\n",
            "Ingrese el tiempo (minutos) a reservar dentro del estacionamiento. Para salir ingrese '0': \n",
            "120\n",
            "Ingrese el tiempo (minutos) a reservar dentro del estacionamiento. Para salir ingrese '0': \n",
            "120\n",
            "Ingrese el tiempo (minutos) a reservar dentro del estacionamiento. Para salir ingrese '0': \n",
            "121\n",
            "Ingrese el tiempo (minutos) a reservar dentro del estacionamiento. Para salir ingrese '0': \n",
            "0\n",
            "El total de su estancia fue de: 481 minutos, por lo que su total a pagar es de $345 pesos.\n",
            "El monto incluye un recargo de $200 pesos por permanecer más de 8 horas.\n"
          ]
        }
      ]
    }
  ]
}