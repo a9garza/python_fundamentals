{
  "nbformat": 4,
  "nbformat_minor": 0,
  "metadata": {
    "colab": {
      "provenance": [],
      "authorship_tag": "ABX9TyN8d9flu7x75YAU8wfLOHIv",
      "include_colab_link": true
    },
    "kernelspec": {
      "name": "python3",
      "display_name": "Python 3"
    },
    "language_info": {
      "name": "python"
    }
  },
  "cells": [
    {
      "cell_type": "markdown",
      "metadata": {
        "id": "view-in-github",
        "colab_type": "text"
      },
      "source": [
        "<a href=\"https://colab.research.google.com/github/a9garza/python_fundamentals/blob/main/ActividadPandas.ipynb\" target=\"_parent\"><img src=\"https://colab.research.google.com/assets/colab-badge.svg\" alt=\"Open In Colab\"/></a>"
      ]
    },
    {
      "cell_type": "markdown",
      "source": [
        "**Parte 1**\n",
        "- Importar la librería de pandas en tu script de Python.\n",
        "- Utiliza pandas para leer el archivo CSV proporcionado y asignarlo a una variable. Por ejemplo, podríamos llamar a esta variable datos_atletas.\n",
        "- Filtrar los datos para incluir solo a los atletas que hayan recibido una medalla (oro, plata o bronce). Puedes hacer esto usando la función .dropna() en la columna de las medallas, o filtra usando .notnull()\n",
        "- Para encontrar al atleta más veterano que ha recibido medalla, puedes usar la función .idxmax() en la columna 'Age' y luego usar este índice para localizar los datos completos del atleta.\n",
        "- Para encontrar al atleta más joven que ha recibido una medalla de oro, primero filtra los datos para incluir solo a los atletas que hayan recibido una medalla de oro. Luego, usa el mismo método que en el paso 4 para encontrar al atleta más joven.\n",
        "- Para encontrar al atleta más condecorado de la historia, puedes utilizar la función .value_counts() en la columna 'Name' para contar cuántas veces aparece cada nombre (lo que indica cuántas medallas ha ganado). Luego, puedes utilizar la función .idxmax() para encontrar el nombre del atleta que aparece más veces.\n",
        "- Finalmente, extrae todos los registros de este atleta y crea un nuevo CSV con su información usando la función .to_csv()."
      ],
      "metadata": {
        "id": "GbQdWxEA4Zq_"
      }
    },
    {
      "cell_type": "code",
      "execution_count": 147,
      "metadata": {
        "colab": {
          "base_uri": "https://localhost:8080/"
        },
        "id": "jV1uz53iYVil",
        "outputId": "082c8031-2724-444d-f82b-5cb6cacfc29c"
      },
      "outputs": [
        {
          "output_type": "stream",
          "name": "stdout",
          "text": [
            "El atleta más veterano es:  John (Herbert Crawford-) Copley (Williamson-)\n",
            "El atleta más joven es:  Hans Bourquin\n",
            "Michael Fred Phelps, II\n",
            "El atleta más condecorado es:  Michael Fred Phelps, II\n"
          ]
        }
      ],
      "source": [
        "# Importar la libreria de pandas\n",
        "import pandas as pd\n",
        "\n",
        "# Utiliza pandas para leer el archivo CSV proporcionado y asignarlo a una variable\n",
        "df = pd.read_csv(\"athlete_events.csv\")\n",
        "\n",
        "# Filtrar los datos para incluir solo a los atletas que hayan recibido una medalla (oro, plata o bronce)\n",
        "df_filter = df.dropna(subset=['Medal']).reset_index(drop=True)\n",
        "\n",
        "# Encontrar el atleta más veterano\n",
        "# Encontrar la posición (ID) mayor en la columna de edad ('Age')\n",
        "id = df_filter['Age'].idxmax()\n",
        "# Utilizando éste index, buscar en la columna de nombre\n",
        "atleta_mayor = df_filter['Name'].iloc[id]\n",
        "print('El atleta más veterano es: ',atleta_mayor)\n",
        "\n",
        "\n",
        "# Encontrar el atleta más joven que haya ganado una medalla de oro\n",
        "\n",
        "# Filtrar la base de datos únicamente con ganadores de medalle de oro\n",
        "df_oro = df_filter[df_filter[\"Medal\"] == 'Gold'].reset_index(drop=True)\n",
        "\n",
        "# Encontrar la posición (ID) menor en la columna de edad ('Age')\n",
        "idmin = df_oro['Age'].idxmin()\n",
        "\n",
        "# Utilizando éste index, buscar en la columna de nombre\n",
        "atleta_menor = df_oro['Name'].iloc[idmin]\n",
        "print('El atleta más joven es: ',atleta_menor)\n",
        "\n",
        "# Encontrar al atleta más condecorado\n",
        "\n",
        "df_medals = df_filter['Name'].value_counts()\n",
        "atleta_medallas = df_medals.idxmax()\n",
        "print(atleta_medallas)\n",
        "print('El atleta más condecorado es: ',atleta_medallas)"
      ]
    },
    {
      "cell_type": "code",
      "source": [
        "# Extrae todos los registros de este atleta y crea un nuevo CSV con su información\n",
        "df_phelps = df[df[\"Name\"] == atleta_medallas].reset_index(drop=True)\n",
        "df_phelps.to_csv(index=False)"
      ],
      "metadata": {
        "colab": {
          "base_uri": "https://localhost:8080/",
          "height": 191
        },
        "id": "9piJ2oC80fLv",
        "outputId": "53713e91-8db7-437d-894f-8f82e22e1698"
      },
      "execution_count": 148,
      "outputs": [
        {
          "output_type": "execute_result",
          "data": {
            "text/plain": [
              "'ID,Name,Sex,Age,Height,Weight,Team,NOC,Games,Year,Season,City,Sport,Event,Medal\\n94406,\"Michael Fred Phelps, II\",M,15.0,193.0,91.0,United States,USA,2000 Summer,2000,Summer,Sydney,Swimming,Swimming Men\\'s 200 metres Butterfly,\\n94406,\"Michael Fred Phelps, II\",M,19.0,193.0,91.0,United States,USA,2004 Summer,2004,Summer,Athina,Swimming,Swimming Men\\'s 200 metres Freestyle,Bronze\\n94406,\"Michael Fred Phelps, II\",M,19.0,193.0,91.0,United States,USA,2004 Summer,2004,Summer,Athina,Swimming,Swimming Men\\'s 4 x 100 metres Freestyle Relay,Bronze\\n94406,\"Michael Fred Phelps, II\",M,19.0,193.0,91.0,United States,USA,2004 Summer,2004,Summer,Athina,Swimming,Swimming Men\\'s 4 x 200 metres Freestyle Relay,Gold\\n94406,\"Michael Fred Phelps, II\",M,19.0,193.0,91.0,United States,USA,2004 Summer,2004,Summer,Athina,Swimming,Swimming Men\\'s 100 metres Butterfly,Gold\\n94406,\"Michael Fred Phelps, II\",M,19.0,193.0,91.0,United States,USA,2004 Summer,2004,Summer,Athina,Swimming,Swimming Men\\'s 200 metres Butterfly,Gold\\n94406,\"Michael Fred Phelps, II\",M,19.0,193.0,91.0,United States,USA,2004 Summer,2004,Summer,Athina,Swimming,Swimming Men\\'s 200 metres Individual Medley,Gold\\n94406,\"Michael Fred Phelps, II\",M,19.0,193.0,91.0,United States,USA,2004 Summer,2004,Summer,Athina,Swimming,Swimming Men\\'s 400 metres Individual Medley,Gold\\n94406,\"Michael Fred Phelps, II\",M,19.0,193.0,91.0,United States,USA,2004 Summer,2004,Summer,Athina,Swimming,Swimming Men\\'s 4 x 100 metres Medley Relay,Gold\\n94406,\"Michael Fred Phelps, II\",M,23.0,193.0,91.0,United States,USA,2008 Summer,2008,Summer,Beijing,Swimming,Swimming Men\\'s 200 metres Freestyle,Gold\\n94406,\"Michael Fred Phelps, II\",M,23.0,193.0,91.0,United States,USA,2008 Summer,2008,Summer,Beijing,Swimming,Swimming Men\\'s 4 x 100 metres Freestyle Relay,Gold\\n94406,\"Michael Fred Phelps, II\",M,23.0,193.0,91.0,United States,USA,2008 Summer,2008,Summer,Beijing,Swimming,Swimming Men\\'s 4 x 200 metres Freestyle Relay,Gold\\n94406,\"Michael Fred Phelps, II\",M,23.0,193.0,91.0,United States,USA,2008 Summer,2008,Summer,Beijing,Swimming,Swimming Men\\'s 100 metres Butterfly,Gold\\n94406,\"Michael Fred Phelps, II\",M,23.0,193.0,91.0,United States,USA,2008 Summer,2008,Summer,Beijing,Swimming,Swimming Men\\'s 200 metres Butterfly,Gold\\n94406,\"Michael Fred Phelps, II\",M,23.0,193.0,91.0,United States,USA,2008 Summer,2008,Summer,Beijing,Swimming,Swimming Men\\'s 200 metres Individual Medley,Gold\\n94406,\"Michael Fred Phelps, II\",M,23.0,193.0,91.0,United States,USA,2008 Summer,2008,Summer,Beijing,Swimming,Swimming Men\\'s 400 metres Individual Medley,Gold\\n94406,\"Michael Fred Phelps, II\",M,23.0,193.0,91.0,United States,USA,2008 Summer,2008,Summer,Beijing,Swimming,Swimming Men\\'s 4 x 100 metres Medley Relay,Gold\\n94406,\"Michael Fred Phelps, II\",M,27.0,193.0,91.0,United States,USA,2012 Summer,2012,Summer,London,Swimming,Swimming Men\\'s 4 x 100 metres Freestyle Relay,Silver\\n94406,\"Michael Fred Phelps, II\",M,27.0,193.0,91.0,United States,USA,2012 Summer,2012,Summer,London,Swimming,Swimming Men\\'s 4 x 200 metres Freestyle Relay,Gold\\n94406,\"Michael Fred Phelps, II\",M,27.0,193.0,91.0,United States,USA,2012 Summer,2012,Summer,London,Swimming,Swimming Men\\'s 100 metres Butterfly,Gold\\n94406,\"Michael Fred Phelps, II\",M,27.0,193.0,91.0,United States,USA,2012 Summer,2012,Summer,London,Swimming,Swimming Men\\'s 200 metres Butterfly,Silver\\n94406,\"Michael Fred Phelps, II\",M,27.0,193.0,91.0,United States,USA,2012 Summer,2012,Summer,London,Swimming,Swimming Men\\'s 200 metres Individual Medley,Gold\\n94406,\"Michael Fred Phelps, II\",M,27.0,193.0,91.0,United States,USA,2012 Summer,2012,Summer,London,Swimming,Swimming Men\\'s 400 metres Individual Medley,\\n94406,\"Michael Fred Phelps, II\",M,27.0,193.0,91.0,United States,USA,2012 Summer,2012,Summer,London,Swimming,Swimming Men\\'s 4 x 100 metres Medley Relay,Gold\\n94406,\"Michael Fred Phelps, II\",M,31.0,193.0,91.0,United States,USA,2016 Summer,2016,Summer,Rio de Janeiro,Swimming,Swimming Men\\'s 4 x 100 metres Freestyle Relay,Gold\\n94406,\"Michael Fred Phelps, II\",M,31.0,193.0,91.0,United States,USA,2016 Summer,2016,Summer,Rio de Janeiro,Swimming,Swimming Men\\'s 4 x 200 metres Freestyle Relay,Gold\\n94406,\"Michael Fred Phelps, II\",M,31.0,193.0,91.0,United States,USA,2016 Summer,2016,Summer,Rio de Janeiro,Swimming,Swimming Men\\'s 100 metres Butterfly,Silver\\n94406,\"Michael Fred Phelps, II\",M,31.0,193.0,91.0,United States,USA,2016 Summer,2016,Summer,Rio de Janeiro,Swimming,Swimming Men\\'s 200 metres Butterfly,Gold\\n94406,\"Michael Fred Phelps, II\",M,31.0,193.0,91.0,United States,USA,2016 Summer,2016,Summer,Rio de Janeiro,Swimming,Swimming Men\\'s 200 metres Individual Medley,Gold\\n94406,\"Michael Fred Phelps, II\",M,31.0,193.0,91.0,United States,USA,2016 Summer,2016,Summer,Rio de Janeiro,Swimming,Swimming Men\\'s 4 x 100 metres Medley Relay,Gold\\n'"
            ],
            "application/vnd.google.colaboratory.intrinsic+json": {
              "type": "string"
            }
          },
          "metadata": {},
          "execution_count": 148
        }
      ]
    },
    {
      "cell_type": "markdown",
      "source": [
        "**PARTE 2**\n",
        "1. Crear un programa que permita saber cuál es el competidor más veterano que ha recibido medalla para los NOC´s MEX, COL y ARG (oro, plata o bronce)\n",
        "2. Crear un programa que permita saber cuál es el competidor más joven que ha recibido medalla de oro para los NOC´s USA y CAN\n",
        "3. Encuentra al competidor más ganador de la historia en medallas totales, medallas de oro, medallas de plata y medallas de broce para los NOC´s USA, CHN y RUS. Crea un csv con toda su información."
      ],
      "metadata": {
        "id": "bvn0YIG64KRr"
      }
    },
    {
      "cell_type": "code",
      "source": [
        "df1 = df.dropna(subset=['Medal']).reset_index(drop=True)\n",
        "df1 = df[df[\"NOC\"].isin([\"MEX\", \"COL\", \"ARG\"])]\n",
        "paises = df1['NOC'].unique()\n",
        "for pais in paises:\n",
        "  df_pais = df1[df1['NOC']==pais].reset_index(drop=True)\n",
        "  # Encontrar el atleta más veterano\n",
        "  # Encontrar la posición (ID) mayor en la columna de edad ('Age')\n",
        "  id_pais = df_pais['Age'].idxmax()\n",
        "  # Utilizando éste index, buscar en la columna de nombre\n",
        "  atleta_mayor_pais = df_pais['Name'].iloc[id_pais]\n",
        "  print(\"El atleta más veterano de\",pais,\"es\",atleta_mayor_pais)"
      ],
      "metadata": {
        "colab": {
          "base_uri": "https://localhost:8080/"
        },
        "id": "YSNAkSML4W-o",
        "outputId": "ae47117a-e988-45ae-c5fa-30971ad49609"
      },
      "execution_count": 165,
      "outputs": [
        {
          "output_type": "stream",
          "name": "stdout",
          "text": [
            "El atleta más veterano de ARG es Oscar Carlos A. Rompani\n",
            "El atleta más veterano de MEX es Julio Herrera\n",
            "El atleta más veterano de COL es Ren Lpez Lizarazo\n"
          ]
        }
      ]
    },
    {
      "cell_type": "code",
      "source": [
        "df2 = df.dropna(subset=['Medal']).reset_index(drop=True)\n",
        "df2 = df[df[\"NOC\"].isin([\"USA\", \"CAN\"])]\n",
        "paises2 = df2['NOC'].unique()\n",
        "for pais2 in paises2:\n",
        "  df_pais2 = df2[df2['NOC']==pais2].reset_index(drop=True)\n",
        "  # Encontrar el atleta más veterano\n",
        "  # Encontrar la posición (ID) mayor en la columna de edad ('Age')\n",
        "  id_pais2 = df_pais2['Age'].idxmin()\n",
        "  # Utilizando éste index, buscar en la columna de nombre\n",
        "  atleta_menor_pais = df_pais2['Name'].iloc[id_pais2]\n",
        "  print(\"El atleta más joven de\",pais2,\"es\",atleta_menor_pais)"
      ],
      "metadata": {
        "colab": {
          "base_uri": "https://localhost:8080/"
        },
        "id": "zZ-P3OHP5HF8",
        "outputId": "081473cc-c05a-46d2-addd-c1f5fa8c8ee9"
      },
      "execution_count": 166,
      "outputs": [
        {
          "output_type": "stream",
          "name": "stdout",
          "text": [
            "El atleta más joven de USA es Dorothy Poynton-Hill (-Teuber)\n",
            "El atleta más joven de CAN es Robin Marie Corsiglia (-Scholefield)\n"
          ]
        }
      ]
    },
    {
      "cell_type": "code",
      "source": [
        "df3 = df.dropna(subset=['Medal']).reset_index(drop=True)\n",
        "df3 = df[df[\"NOC\"].isin([\"USA\", \"CHN\", \"RUS\"])]\n",
        "total_medals = df3.groupby(\"Name\").Medal.count()\n",
        "gold_medals = df3[df3[\"Medal\"] == \"Gold\"].groupby(\"Name\").Medal.count()\n",
        "silver_medals = df3[df3[\"Medal\"] == \"Silver\"].groupby(\"Name\").Medal.count()\n",
        "bronze_medals = df3[df3[\"Medal\"] == \"Bronze\"].groupby(\"Name\").Medal.count()\n",
        "most_medals_total = total_medals.idxmax()\n",
        "most_gold_medals = gold_medals.idxmax()\n",
        "most_silver_medals = silver_medals.idxmax()\n",
        "most_bronze_medals = bronze_medals.idxmax()\n",
        "\n",
        "# Crear un nuevo DataFrame con la información obtenida\n",
        "data = {\n",
        "    \"Competidor con mayores medallas\": [most_medals_total],\n",
        "    \"Medallas Totales\": [total_medals.max()],\n",
        "    \"Competidor más ganador medalla de oro\": [most_gold_medals],\n",
        "    \"Medallas de Oro\": [gold_medals.max()],\n",
        "    \"Competidor más ganador medalla de plata\": [most_silver_medals],\n",
        "    \"Medallas de Plata\": [silver_medals.max()],\n",
        "    \"Competidor más ganador medalla de bronze\": [most_bronze_medals],\n",
        "    \"Medallas de Bronce\": [bronze_medals.max()]\n",
        "}\n",
        "\n",
        "df_final = pd.DataFrame(data)\n",
        "df_final.to_csv(\"/competidores_info.csv\", index=False)"
      ],
      "metadata": {
        "id": "gSvVjzR05JT8"
      },
      "execution_count": 167,
      "outputs": []
    },
    {
      "cell_type": "code",
      "source": [
        "df_final"
      ],
      "metadata": {
        "colab": {
          "base_uri": "https://localhost:8080/",
          "height": 194
        },
        "id": "BP9wJF7z-nRP",
        "outputId": "07b625ce-58b0-42d8-f42e-d271910d567f"
      },
      "execution_count": 168,
      "outputs": [
        {
          "output_type": "execute_result",
          "data": {
            "text/plain": [
              "  Competidor con mayores medallas  Medallas Totales  \\\n",
              "0         Michael Fred Phelps, II                28   \n",
              "\n",
              "  Competidor más ganador medalla de oro  Medallas de Oro  \\\n",
              "0               Michael Fred Phelps, II               23   \n",
              "\n",
              "  Competidor más ganador medalla de plata  Medallas de Plata  \\\n",
              "0               Shirley Frances Babashoff                  6   \n",
              "\n",
              "  Competidor más ganador medalla de bronze  Medallas de Bronce  \n",
              "0                  Aleksey Yuryevich Nemov                   6  "
            ],
            "text/html": [
              "\n",
              "\n",
              "  <div id=\"df-fbc38e00-5094-4eb2-8f63-98de941bb117\">\n",
              "    <div class=\"colab-df-container\">\n",
              "      <div>\n",
              "<style scoped>\n",
              "    .dataframe tbody tr th:only-of-type {\n",
              "        vertical-align: middle;\n",
              "    }\n",
              "\n",
              "    .dataframe tbody tr th {\n",
              "        vertical-align: top;\n",
              "    }\n",
              "\n",
              "    .dataframe thead th {\n",
              "        text-align: right;\n",
              "    }\n",
              "</style>\n",
              "<table border=\"1\" class=\"dataframe\">\n",
              "  <thead>\n",
              "    <tr style=\"text-align: right;\">\n",
              "      <th></th>\n",
              "      <th>Competidor con mayores medallas</th>\n",
              "      <th>Medallas Totales</th>\n",
              "      <th>Competidor más ganador medalla de oro</th>\n",
              "      <th>Medallas de Oro</th>\n",
              "      <th>Competidor más ganador medalla de plata</th>\n",
              "      <th>Medallas de Plata</th>\n",
              "      <th>Competidor más ganador medalla de bronze</th>\n",
              "      <th>Medallas de Bronce</th>\n",
              "    </tr>\n",
              "  </thead>\n",
              "  <tbody>\n",
              "    <tr>\n",
              "      <th>0</th>\n",
              "      <td>Michael Fred Phelps, II</td>\n",
              "      <td>28</td>\n",
              "      <td>Michael Fred Phelps, II</td>\n",
              "      <td>23</td>\n",
              "      <td>Shirley Frances Babashoff</td>\n",
              "      <td>6</td>\n",
              "      <td>Aleksey Yuryevich Nemov</td>\n",
              "      <td>6</td>\n",
              "    </tr>\n",
              "  </tbody>\n",
              "</table>\n",
              "</div>\n",
              "      <button class=\"colab-df-convert\" onclick=\"convertToInteractive('df-fbc38e00-5094-4eb2-8f63-98de941bb117')\"\n",
              "              title=\"Convert this dataframe to an interactive table.\"\n",
              "              style=\"display:none;\">\n",
              "\n",
              "  <svg xmlns=\"http://www.w3.org/2000/svg\" height=\"24px\"viewBox=\"0 0 24 24\"\n",
              "       width=\"24px\">\n",
              "    <path d=\"M0 0h24v24H0V0z\" fill=\"none\"/>\n",
              "    <path d=\"M18.56 5.44l.94 2.06.94-2.06 2.06-.94-2.06-.94-.94-2.06-.94 2.06-2.06.94zm-11 1L8.5 8.5l.94-2.06 2.06-.94-2.06-.94L8.5 2.5l-.94 2.06-2.06.94zm10 10l.94 2.06.94-2.06 2.06-.94-2.06-.94-.94-2.06-.94 2.06-2.06.94z\"/><path d=\"M17.41 7.96l-1.37-1.37c-.4-.4-.92-.59-1.43-.59-.52 0-1.04.2-1.43.59L10.3 9.45l-7.72 7.72c-.78.78-.78 2.05 0 2.83L4 21.41c.39.39.9.59 1.41.59.51 0 1.02-.2 1.41-.59l7.78-7.78 2.81-2.81c.8-.78.8-2.07 0-2.86zM5.41 20L4 18.59l7.72-7.72 1.47 1.35L5.41 20z\"/>\n",
              "  </svg>\n",
              "      </button>\n",
              "\n",
              "\n",
              "\n",
              "    <div id=\"df-4e918f23-b8bb-424b-9d0d-ab42027c1e6d\">\n",
              "      <button class=\"colab-df-quickchart\" onclick=\"quickchart('df-4e918f23-b8bb-424b-9d0d-ab42027c1e6d')\"\n",
              "              title=\"Suggest charts.\"\n",
              "              style=\"display:none;\">\n",
              "\n",
              "<svg xmlns=\"http://www.w3.org/2000/svg\" height=\"24px\"viewBox=\"0 0 24 24\"\n",
              "     width=\"24px\">\n",
              "    <g>\n",
              "        <path d=\"M19 3H5c-1.1 0-2 .9-2 2v14c0 1.1.9 2 2 2h14c1.1 0 2-.9 2-2V5c0-1.1-.9-2-2-2zM9 17H7v-7h2v7zm4 0h-2V7h2v10zm4 0h-2v-4h2v4z\"/>\n",
              "    </g>\n",
              "</svg>\n",
              "      </button>\n",
              "    </div>\n",
              "\n",
              "<style>\n",
              "  .colab-df-quickchart {\n",
              "    background-color: #E8F0FE;\n",
              "    border: none;\n",
              "    border-radius: 50%;\n",
              "    cursor: pointer;\n",
              "    display: none;\n",
              "    fill: #1967D2;\n",
              "    height: 32px;\n",
              "    padding: 0 0 0 0;\n",
              "    width: 32px;\n",
              "  }\n",
              "\n",
              "  .colab-df-quickchart:hover {\n",
              "    background-color: #E2EBFA;\n",
              "    box-shadow: 0px 1px 2px rgba(60, 64, 67, 0.3), 0px 1px 3px 1px rgba(60, 64, 67, 0.15);\n",
              "    fill: #174EA6;\n",
              "  }\n",
              "\n",
              "  [theme=dark] .colab-df-quickchart {\n",
              "    background-color: #3B4455;\n",
              "    fill: #D2E3FC;\n",
              "  }\n",
              "\n",
              "  [theme=dark] .colab-df-quickchart:hover {\n",
              "    background-color: #434B5C;\n",
              "    box-shadow: 0px 1px 3px 1px rgba(0, 0, 0, 0.15);\n",
              "    filter: drop-shadow(0px 1px 2px rgba(0, 0, 0, 0.3));\n",
              "    fill: #FFFFFF;\n",
              "  }\n",
              "</style>\n",
              "\n",
              "    <script>\n",
              "      async function quickchart(key) {\n",
              "        const containerElement = document.querySelector('#' + key);\n",
              "        const charts = await google.colab.kernel.invokeFunction(\n",
              "            'suggestCharts', [key], {});\n",
              "      }\n",
              "    </script>\n",
              "\n",
              "      <script>\n",
              "\n",
              "function displayQuickchartButton(domScope) {\n",
              "  let quickchartButtonEl =\n",
              "    domScope.querySelector('#df-4e918f23-b8bb-424b-9d0d-ab42027c1e6d button.colab-df-quickchart');\n",
              "  quickchartButtonEl.style.display =\n",
              "    google.colab.kernel.accessAllowed ? 'block' : 'none';\n",
              "}\n",
              "\n",
              "        displayQuickchartButton(document);\n",
              "      </script>\n",
              "      <style>\n",
              "    .colab-df-container {\n",
              "      display:flex;\n",
              "      flex-wrap:wrap;\n",
              "      gap: 12px;\n",
              "    }\n",
              "\n",
              "    .colab-df-convert {\n",
              "      background-color: #E8F0FE;\n",
              "      border: none;\n",
              "      border-radius: 50%;\n",
              "      cursor: pointer;\n",
              "      display: none;\n",
              "      fill: #1967D2;\n",
              "      height: 32px;\n",
              "      padding: 0 0 0 0;\n",
              "      width: 32px;\n",
              "    }\n",
              "\n",
              "    .colab-df-convert:hover {\n",
              "      background-color: #E2EBFA;\n",
              "      box-shadow: 0px 1px 2px rgba(60, 64, 67, 0.3), 0px 1px 3px 1px rgba(60, 64, 67, 0.15);\n",
              "      fill: #174EA6;\n",
              "    }\n",
              "\n",
              "    [theme=dark] .colab-df-convert {\n",
              "      background-color: #3B4455;\n",
              "      fill: #D2E3FC;\n",
              "    }\n",
              "\n",
              "    [theme=dark] .colab-df-convert:hover {\n",
              "      background-color: #434B5C;\n",
              "      box-shadow: 0px 1px 3px 1px rgba(0, 0, 0, 0.15);\n",
              "      filter: drop-shadow(0px 1px 2px rgba(0, 0, 0, 0.3));\n",
              "      fill: #FFFFFF;\n",
              "    }\n",
              "  </style>\n",
              "\n",
              "      <script>\n",
              "        const buttonEl =\n",
              "          document.querySelector('#df-fbc38e00-5094-4eb2-8f63-98de941bb117 button.colab-df-convert');\n",
              "        buttonEl.style.display =\n",
              "          google.colab.kernel.accessAllowed ? 'block' : 'none';\n",
              "\n",
              "        async function convertToInteractive(key) {\n",
              "          const element = document.querySelector('#df-fbc38e00-5094-4eb2-8f63-98de941bb117');\n",
              "          const dataTable =\n",
              "            await google.colab.kernel.invokeFunction('convertToInteractive',\n",
              "                                                     [key], {});\n",
              "          if (!dataTable) return;\n",
              "\n",
              "          const docLinkHtml = 'Like what you see? Visit the ' +\n",
              "            '<a target=\"_blank\" href=https://colab.research.google.com/notebooks/data_table.ipynb>data table notebook</a>'\n",
              "            + ' to learn more about interactive tables.';\n",
              "          element.innerHTML = '';\n",
              "          dataTable['output_type'] = 'display_data';\n",
              "          await google.colab.output.renderOutput(dataTable, element);\n",
              "          const docLink = document.createElement('div');\n",
              "          docLink.innerHTML = docLinkHtml;\n",
              "          element.appendChild(docLink);\n",
              "        }\n",
              "      </script>\n",
              "    </div>\n",
              "  </div>\n"
            ]
          },
          "metadata": {},
          "execution_count": 168
        }
      ]
    },
    {
      "cell_type": "code",
      "source": [],
      "metadata": {
        "id": "TNsD987G-oqo"
      },
      "execution_count": null,
      "outputs": []
    }
  ]
}