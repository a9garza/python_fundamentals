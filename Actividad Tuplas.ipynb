{
  "cells": [
    {
      "cell_type": "code",
      "source": [
        "Mi_tupla = (\"Arturo\",12,1.3,False)\r\n",
        "print(Mi_tupla)"
      ],
      "outputs": [
        {
          "output_type": "display_data",
          "data": {
            "application/vnd.livy.statement-meta+json": {
              "spark_pool": "SPKSmallCAPlab1",
              "session_id": "86",
              "statement_id": 3,
              "state": "finished",
              "livy_statement_state": "available",
              "queued_time": "2023-07-12T05:49:34.9662477Z",
              "session_start_time": null,
              "execution_start_time": "2023-07-12T05:49:35.1529274Z",
              "execution_finish_time": "2023-07-12T05:49:35.3202823Z",
              "spark_jobs": null,
              "parent_msg_id": "1588d32c-4864-4e9f-8c77-5b91e53f9329"
            },
            "text/plain": "StatementMeta(SPKSmallCAPlab1, 86, 3, Finished, Available)"
          },
          "metadata": {}
        },
        {
          "output_type": "stream",
          "name": "stdout",
          "text": [
            "('Arturo', 12, 1.3, False)\n"
          ]
        }
      ],
      "execution_count": 2,
      "metadata": {}
    },
    {
      "cell_type": "code",
      "source": [
        "print(\"Tipo de arreglo:\\n\")\r\n",
        "print(type([Mi_tupla]))\r\n",
        "print(\"\\nElementos en tupla:\\n\")\r\n",
        "for i in range(len(Mi_tupla)):\r\n",
        "    print(type(Mi_tupla[i]))"
      ],
      "outputs": [
        {
          "output_type": "display_data",
          "data": {
            "application/vnd.livy.statement-meta+json": {
              "spark_pool": "SPKSmallCAPlab1",
              "session_id": "86",
              "statement_id": 4,
              "state": "finished",
              "livy_statement_state": "available",
              "queued_time": "2023-07-12T05:49:42.1378807Z",
              "session_start_time": null,
              "execution_start_time": "2023-07-12T05:49:42.3127816Z",
              "execution_finish_time": "2023-07-12T05:49:42.4929863Z",
              "spark_jobs": null,
              "parent_msg_id": "4f3fde21-e078-45a8-8700-c11d8108970d"
            },
            "text/plain": "StatementMeta(SPKSmallCAPlab1, 86, 4, Finished, Available)"
          },
          "metadata": {}
        },
        {
          "output_type": "stream",
          "name": "stdout",
          "text": [
            "Tipo de arreglo:\n\n<class 'list'>\n\nElementos en tupla:\n\n<class 'str'>\n<class 'int'>\n<class 'float'>\n<class 'bool'>\n"
          ]
        }
      ],
      "execution_count": 3,
      "metadata": {
        "jupyter": {
          "source_hidden": false,
          "outputs_hidden": false
        },
        "nteract": {
          "transient": {
            "deleting": false
          }
        }
      }
    },
    {
      "cell_type": "code",
      "source": [
        "Mi_lista=list(Mi_tupla)\r\n",
        "print(Mi_lista)"
      ],
      "outputs": [
        {
          "output_type": "display_data",
          "data": {
            "application/vnd.livy.statement-meta+json": {
              "spark_pool": "SPKSmallCAPlab1",
              "session_id": "86",
              "statement_id": 5,
              "state": "finished",
              "livy_statement_state": "available",
              "queued_time": "2023-07-12T05:49:48.3276055Z",
              "session_start_time": null,
              "execution_start_time": "2023-07-12T05:49:48.4599447Z",
              "execution_finish_time": "2023-07-12T05:49:48.6643201Z",
              "spark_jobs": null,
              "parent_msg_id": "8bf87f12-e292-464a-9931-a17274d06eb8"
            },
            "text/plain": "StatementMeta(SPKSmallCAPlab1, 86, 5, Finished, Available)"
          },
          "metadata": {}
        },
        {
          "output_type": "stream",
          "name": "stdout",
          "text": [
            "['Arturo', 12, 1.3, False]\n"
          ]
        }
      ],
      "execution_count": 4,
      "metadata": {
        "jupyter": {
          "source_hidden": false,
          "outputs_hidden": false
        },
        "nteract": {
          "transient": {
            "deleting": false
          }
        }
      }
    },
    {
      "cell_type": "code",
      "source": [
        "print(\"Tipo de arreglo:\\n\")\r\n",
        "print(type([Mi_lista]))"
      ],
      "outputs": [
        {
          "output_type": "display_data",
          "data": {
            "application/vnd.livy.statement-meta+json": {
              "spark_pool": "SPKSmallCAPlab1",
              "session_id": "86",
              "statement_id": 6,
              "state": "finished",
              "livy_statement_state": "available",
              "queued_time": "2023-07-12T05:49:55.3273175Z",
              "session_start_time": null,
              "execution_start_time": "2023-07-12T05:49:55.4931263Z",
              "execution_finish_time": "2023-07-12T05:49:55.6707972Z",
              "spark_jobs": null,
              "parent_msg_id": "2edda675-8af2-4598-be3d-d543eb09e0d2"
            },
            "text/plain": "StatementMeta(SPKSmallCAPlab1, 86, 6, Finished, Available)"
          },
          "metadata": {}
        },
        {
          "output_type": "stream",
          "name": "stdout",
          "text": [
            "Tipo de arreglo:\n\n<class 'list'>\n"
          ]
        }
      ],
      "execution_count": 5,
      "metadata": {
        "jupyter": {
          "source_hidden": false,
          "outputs_hidden": false
        },
        "nteract": {
          "transient": {
            "deleting": false
          }
        }
      }
    },
    {
      "cell_type": "code",
      "source": [
        "Mi_diccionario = {n+1:Mi_lista[n] for n in range(4)}\r\n",
        "print(Mi_diccionario)"
      ],
      "outputs": [
        {
          "output_type": "display_data",
          "data": {
            "application/vnd.livy.statement-meta+json": {
              "spark_pool": "SPKSmallCAPlab1",
              "session_id": "86",
              "statement_id": 7,
              "state": "finished",
              "livy_statement_state": "available",
              "queued_time": "2023-07-12T05:50:00.5312103Z",
              "session_start_time": null,
              "execution_start_time": "2023-07-12T05:50:00.6615956Z",
              "execution_finish_time": "2023-07-12T05:50:00.8423432Z",
              "spark_jobs": null,
              "parent_msg_id": "fd118352-fddd-4d7e-a460-1ec9f05d5c25"
            },
            "text/plain": "StatementMeta(SPKSmallCAPlab1, 86, 7, Finished, Available)"
          },
          "metadata": {}
        },
        {
          "output_type": "stream",
          "name": "stdout",
          "text": [
            "{1: 'Arturo', 2: 12, 3: 1.3, 4: False}\n"
          ]
        }
      ],
      "execution_count": 6,
      "metadata": {
        "jupyter": {
          "source_hidden": false,
          "outputs_hidden": false
        },
        "nteract": {
          "transient": {
            "deleting": false
          }
        }
      }
    },
    {
      "cell_type": "code",
      "source": [],
      "outputs": [],
      "execution_count": null,
      "metadata": {
        "jupyter": {
          "source_hidden": false,
          "outputs_hidden": false
        },
        "nteract": {
          "transient": {
            "deleting": false
          }
        }
      }
    }
  ],
  "metadata": {
    "language_info": {
      "name": "python"
    },
    "kernelspec": {
      "name": "synapse_pyspark",
      "language": "Python",
      "display_name": "Synapse PySpark"
    },
    "kernel_info": {
      "name": "synapse_pyspark"
    },
    "description": "Actividad Semana 1; Tuplas",
    "save_output": true,
    "synapse_widget": {
      "version": "0.1",
      "state": {}
    }
  },
  "nbformat": 4,
  "nbformat_minor": 2
}