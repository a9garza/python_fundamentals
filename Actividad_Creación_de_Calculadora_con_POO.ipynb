{
  "nbformat": 4,
  "nbformat_minor": 0,
  "metadata": {
    "colab": {
      "provenance": [],
      "authorship_tag": "ABX9TyORaIWJOFiq/8jzH4KEpA6J",
      "include_colab_link": true
    },
    "kernelspec": {
      "name": "python3",
      "display_name": "Python 3"
    },
    "language_info": {
      "name": "python"
    }
  },
  "cells": [
    {
      "cell_type": "markdown",
      "metadata": {
        "id": "view-in-github",
        "colab_type": "text"
      },
      "source": [
        "<a href=\"https://colab.research.google.com/github/a9garza/python_fundamentals/blob/main/Actividad_Creaci%C3%B3n_de_Calculadora_con_POO.ipynb\" target=\"_parent\"><img src=\"https://colab.research.google.com/assets/colab-badge.svg\" alt=\"Open In Colab\"/></a>"
      ]
    },
    {
      "cell_type": "code",
      "execution_count": 1,
      "metadata": {
        "colab": {
          "base_uri": "https://localhost:8080/"
        },
        "id": "8o2oYprn1Yka",
        "outputId": "9e567d91-b52c-4838-dde0-2624c2aff8bb"
      },
      "outputs": [
        {
          "output_type": "stream",
          "name": "stdout",
          "text": [
            "Ingresá los números a evaluar\n",
            "Ingresá el primer número: 22\n",
            "Ingresá el segundo número: 27\n",
            "La suma de los valores es:  49.0\n",
            "La resta de los valores es:  -5.0\n",
            "La multiplicación de los valores es:  594.0\n",
            "La división de los valores es:  0.8148148148148148\n"
          ]
        }
      ],
      "source": [
        "# Parte 1\n",
        "# Crea un objeto (una clase) llamado Calculadora con al menos 4 operaciones básicas (sumar, restar, dividir y multiplicar).\n",
        "# Creación de la clase\n",
        "\n",
        "class Calculadora:\n",
        "\n",
        "# Inicio de los valores a trabajar\n",
        "  def __init__(self, valor_1, valor_2):\n",
        "    self.valor_1 = valor_1\n",
        "    self.valor_2 = valor_2\n",
        "\n",
        "# Definición del método para sumar\n",
        "  def suma(self):\n",
        "    return self.valor_1 + self.valor_2\n",
        "\n",
        "# Definición del método para restar\n",
        "  def resta(self):\n",
        "    return self.valor_1 - self.valor_2\n",
        "\n",
        "# Defininicón del método para multiplicar\n",
        "  def multiplicacion(self):\n",
        "    return self.valor_1 * self.valor_2\n",
        "\n",
        "# Definición del método para dividir\n",
        "  def division(self):\n",
        "# Si el valor de valor_2, que será el denominador es diferente que 0, se puede realizar la división, sino el resultado será indefinido\n",
        "    if self.valor_2 != 0:\n",
        "      return self.valor_1 / self.valor_2\n",
        "    else:\n",
        "      return \"El resultado de esta división es indefinido\"\n",
        "\n",
        "# Permitir al usuario ingresar los valores a evaluar\n",
        "print(\"Ingresá los números a evaluar\")\n",
        "valor_1 = float(input(\"Ingresá el primer número: \"))\n",
        "valor_2 = float(input(\"Ingresá el segundo número: \"))\n",
        "\n",
        "# Procesar los valores ingresados en la clase\n",
        "calcular = Calculadora(valor_1, valor_2)\n",
        "\n",
        "# Usar los métodos creados para obtener los resultados\n",
        "print(\"La suma de los valores es: \", calcular.suma())\n",
        "print(\"La resta de los valores es: \", calcular.resta())\n",
        "print(\"La multiplicación de los valores es: \", calcular.multiplicacion())\n",
        "print(\"La división de los valores es: \", calcular.division())"
      ]
    },
    {
      "cell_type": "code",
      "source": [],
      "metadata": {
        "id": "BVveL4NG2ARp"
      },
      "execution_count": null,
      "outputs": []
    }
  ]
}